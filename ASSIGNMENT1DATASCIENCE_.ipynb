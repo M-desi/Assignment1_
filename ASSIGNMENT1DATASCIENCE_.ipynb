{
 "cells": [
  {
   "cell_type": "code",
   "execution_count": 1,
   "metadata": {},
   "outputs": [
    {
     "name": "stdout",
     "output_type": "stream",
     "text": [
      "Twinkle, twinkle, \n",
      "little star, \n",
      "\tHow \n",
      "I wonder what \n",
      "you are! \n",
      "\t\tUp \n",
      "above the world so high, \n",
      "\n",
      "\t\tLike a diamond in the sky. \n",
      "\n",
      "Twinkle, twinkle, little star, \n",
      "\n",
      "\tHow I wonder what you are!\n"
     ]
    }
   ],
   "source": [
    "print('''Twinkle, twinkle, \n",
    "little star, \\n\\tHow \n",
    "I wonder what \n",
    "you are! \\n\\t\\tUp \n",
    "above the world so high, \n",
    "\\n\\t\\tLike a diamond in the sky. \n",
    "\\nTwinkle, twinkle, little star, \n",
    "\\n\\tHow I wonder what you are!''')"
   ]
  },
  {
   "cell_type": "code",
   "execution_count": 2,
   "metadata": {},
   "outputs": [
    {
     "name": "stdout",
     "output_type": "stream",
     "text": [
      "Python Version and version information 3.7.6 (default, Jan  8 2020, 20:23:39) [MSC v.1916 64 bit (AMD64)] sys.version_info(major=3, minor=7, micro=6, releaselevel='final', serial=0)\n"
     ]
    }
   ],
   "source": [
    "import sys\n",
    "print(\"Python Version and version information\",sys.version,sys.version_info)"
   ]
  },
  {
   "cell_type": "code",
   "execution_count": 3,
   "metadata": {},
   "outputs": [
    {
     "data": {
      "text/plain": [
       "datetime.datetime(2022, 1, 1, 23, 41, 1, 309914)"
      ]
     },
     "execution_count": 3,
     "metadata": {},
     "output_type": "execute_result"
    }
   ],
   "source": [
    "import datetime\n",
    "datetime.datetime.now()"
   ]
  },
  {
   "cell_type": "code",
   "execution_count": 4,
   "metadata": {},
   "outputs": [
    {
     "name": "stdout",
     "output_type": "stream",
     "text": [
      "Enter the radius of a circle:- 2\n",
      "Area of a circle =  12.56\n"
     ]
    }
   ],
   "source": [
    "PI = 3.14\n",
    "r=int(input(\"Enter the radius of a circle:- \"))\n",
    "area=PI*r**2\n",
    "print(\"Area of a circle = \",area)"
   ]
  },
  {
   "cell_type": "code",
   "execution_count": 5,
   "metadata": {},
   "outputs": [
    {
     "name": "stdout",
     "output_type": "stream",
     "text": [
      "Enter First Name mueez akhtar arain\n",
      "Enter Last Name arain\n",
      "arain mueez akhtar arain\n"
     ]
    }
   ],
   "source": [
    "f_n=input(\"Enter First Name \")\n",
    "l_n=input(\"Enter Last Name \")\n",
    "print(l_n+\" \"+f_n)"
   ]
  },
  {
   "cell_type": "code",
   "execution_count": 7,
   "metadata": {},
   "outputs": [
    {
     "name": "stdout",
     "output_type": "stream",
     "text": [
      "Enter Number 1 4\n",
      "Enter Number 2 4\n",
      "Sum of Number 1 and Number 2 is:-  8\n"
     ]
    }
   ],
   "source": [
    "a=int(input(\"Enter Number 1 \"))\n",
    "b=int(input(\"Enter Number 2 \"))\n",
    "print(\"Sum of Number 1 and Number 2 is:- \",int(a+b))"
   ]
  },
  {
   "cell_type": "code",
   "execution_count": null,
   "metadata": {},
   "outputs": [],
   "source": []
  }
 ],
 "metadata": {
  "kernelspec": {
   "display_name": "Python 3",
   "language": "python",
   "name": "python3"
  },
  "language_info": {
   "codemirror_mode": {
    "name": "ipython",
    "version": 3
   },
   "file_extension": ".py",
   "mimetype": "text/x-python",
   "name": "python",
   "nbconvert_exporter": "python",
   "pygments_lexer": "ipython3",
   "version": "3.7.6"
  }
 },
 "nbformat": 4,
 "nbformat_minor": 4
}
